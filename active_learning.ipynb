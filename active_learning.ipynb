{
 "cells": [
  {
   "cell_type": "markdown",
   "metadata": {},
   "source": [
    "# Notebook: Active Learning 📚\n",
    "\n"
   ]
  },
  {
   "cell_type": "code",
   "execution_count": 8,
   "metadata": {},
   "outputs": [],
   "source": [
    "import os\n",
    "from os.path import join\n",
    "import torch\n",
    "import pandas as pd\n",
    "import sys\n",
    "from torch.utils.data import Dataset,DataLoader\n",
    "import numpy as np\n",
    "\n",
    "sys.path.append(join(os.getcwd(),'src'))\n",
    "\n",
    "from model import LinearNet, train_one_epoch\n",
    "from typing import List, Dict\n",
    "\n",
    "PATH_DATA = join(os.getcwd(), 'data')\n",
    "PATH_MODEL = join(os.getcwd(), 'models')"
   ]
  },
  {
   "cell_type": "code",
   "execution_count": 2,
   "metadata": {},
   "outputs": [],
   "source": [
    "EPOCHS = 50\n"
   ]
  },
  {
   "cell_type": "markdown",
   "metadata": {},
   "source": [
    "# Hate Dataset"
   ]
  },
  {
   "cell_type": "markdown",
   "metadata": {},
   "source": [
    "## 1 Setup\n",
    "\n",
    "### 1.1 Load Model"
   ]
  },
  {
   "cell_type": "code",
   "execution_count": 3,
   "metadata": {},
   "outputs": [
    {
     "data": {
      "text/plain": [
       "LinearNet(\n",
       "  (embeddings): SentenceTransformer(\n",
       "    (0): Transformer({'max_seq_length': 256, 'do_lower_case': False}) with Transformer model: BertModel \n",
       "    (1): Pooling({'word_embedding_dimension': 384, 'pooling_mode_cls_token': False, 'pooling_mode_mean_tokens': True, 'pooling_mode_max_tokens': False, 'pooling_mode_mean_sqrt_len_tokens': False})\n",
       "    (2): Normalize()\n",
       "  )\n",
       "  (hidden): Linear(in_features=384, out_features=100, bias=True)\n",
       "  (fc): Linear(in_features=100, out_features=2, bias=True)\n",
       ")"
      ]
     },
     "execution_count": 3,
     "metadata": {},
     "output_type": "execute_result"
    }
   ],
   "source": [
    "model = LinearNet(384, 100)\n",
    "model.load_state_dict(torch.load(join(PATH_MODEL,'nn_active_learn_hate.pt')))\n",
    "model.eval()"
   ]
  },
  {
   "cell_type": "markdown",
   "metadata": {},
   "source": [
    "### 1.2 Load Data"
   ]
  },
  {
   "cell_type": "code",
   "execution_count": 4,
   "metadata": {},
   "outputs": [],
   "source": [
    "#### Load TRAIN SETS an process\n",
    "train = pd.read_csv(join(PATH_DATA, 'train_hate.csv'))\n",
    "\n",
    "first_train_set = pd.read_csv(join(PATH_DATA, 'train_subsample_active_learning.csv'))\n",
    "idx_non_wanted = first_train_set.loc[:,'Unnamed: 0.1']\n",
    "train = train.drop(idx_non_wanted.values.tolist())\n",
    "\n",
    "train = train.loc[train.loc[:,'text']!='',]\n",
    "train = train.loc[train.loc[:,'text'].notna(),]\n",
    "\n",
    "\n",
    "#### Load VALIDATION SET\n",
    "\n",
    "val = pd.read_csv(join(PATH_DATA, 'val_hate.csv'))"
   ]
  },
  {
   "cell_type": "markdown",
   "metadata": {},
   "source": [
    "### 1.3 Initial State of Model"
   ]
  },
  {
   "cell_type": "code",
   "execution_count": 5,
   "metadata": {},
   "outputs": [
    {
     "name": "stdout",
     "output_type": "stream",
     "text": [
      "|Model stage|Accuracy|F1|Precision|Recall|\n",
      "|:---:|:---:|:---:|:---:|:---:|\n",
      "|after first training|66.67|64.62|59.31|70.98|\n"
     ]
    }
   ],
   "source": [
    "from sklearn.metrics import accuracy_score, precision_score, f1_score, recall_score\n",
    "\n",
    "preds = model.predict(val.text.values.tolist()).detach().numpy()\n",
    "\n",
    "metrics = {name_metric: metric(val.labels.values, preds) for name_metric, metric in zip(['acc', 'f1', 'precision', 'recall'],\n",
    "                                                                                        [accuracy_score, f1_score, precision_score, recall_score])}\n",
    "\n",
    "print('|Model stage|Accuracy|F1|Precision|Recall|')\n",
    "print('|:---:|:---:|:---:|:---:|:---:|')\n",
    "print(f\"|after first training|{metrics['acc']*100:.02f}|{metrics['f1']*100:.02f}|{metrics['precision']*100:.02f}|{metrics['recall']*100:.02f}|\")\n"
   ]
  },
  {
   "cell_type": "markdown",
   "metadata": {},
   "source": [
    "|Model stage|Accuracy|F1|Precision|Recall|\n",
    "|:---:|:---:|:---:|:---:|:---:|\n",
    "|after first training|66.67|64.62|59.31|70.98|"
   ]
  },
  {
   "cell_type": "markdown",
   "metadata": {},
   "source": [
    "## 1. Retrain on random sets"
   ]
  },
  {
   "cell_type": "code",
   "execution_count": 6,
   "metadata": {},
   "outputs": [],
   "source": [
    "class TweetDataset(Dataset):\n",
    "    def __init__(self, texts: List, labels: List):\n",
    "        self.texts = texts\n",
    "        self.labels = labels\n",
    "\n",
    "    def __len__(self):\n",
    "        return len(self.labels)\n",
    "\t\t\n",
    "    def __getitem__(self, idx):\n",
    "        texts = self.texts[idx]\n",
    "        labels = self.labels[idx]\n",
    "        return texts, torch.tensor(labels, dtype=torch.long)"
   ]
  },
  {
   "cell_type": "code",
   "execution_count": 9,
   "metadata": {},
   "outputs": [],
   "source": [
    "lr = 1e-4\n",
    "\n",
    "losses_dict = {}\n",
    "preds_dict = {}\n",
    "for seed in np.arange(5):\n",
    "    model_retrain_random = LinearNet(384, 100)\n",
    "    model_retrain_random.load_state_dict(torch.load(join(PATH_MODEL,'nn_active_learn_hate.pt')))\n",
    "    train_undersample = train.sample(100, random_state=seed)\n",
    "    \n",
    "    train_loader = DataLoader(TweetDataset(train_undersample.text.values.tolist(), train_undersample.labels.values.tolist()), batch_size=8)\n",
    "    optimizer = torch.optim.SGD(model_retrain_random.parameters(), lr=lr)\n",
    "\n",
    "    losses = []\n",
    "\n",
    "    for epoch in (range(EPOCHS)):\n",
    "        losses.append(train_one_epoch(model_retrain_random, train_loader, optimizer))\n",
    "\n",
    "    losses_dict['seed'+str(seed)] = losses\n",
    "    preds_dict['seed_'+str(seed)] = model_retrain_random.predict(val.text.values.tolist()).detach().numpy()\n"
   ]
  },
  {
   "cell_type": "code",
   "execution_count": 10,
   "metadata": {},
   "outputs": [
    {
     "data": {
      "image/png": "[encoded data removed]",
      "text/plain": [
       "<Figure size 1200x600 with 1 Axes>"
      ]
     },
     "metadata": {},
     "output_type": "display_data"
    }
   ],
   "source": [
    "import matplotlib.pyplot as plt\n",
    "import seaborn as sns \n",
    "sns.set()\n",
    "\n",
    "plt.rcParams[\"figure.figsize\"] = (12,6)\n",
    "\n",
    "fig, ax = plt.subplots()\n",
    "\n",
    "for seed, loss in losses_dict.items():\n",
    "    ax.plot(np.arange(EPOCHS), loss, label=f'loss {seed}')\n",
    "    \n",
    "plt.legend()\n",
    "plt.show()"
   ]
  },
  {
   "cell_type": "code",
   "execution_count": 11,
   "metadata": {},
   "outputs": [],
   "source": [
    "from sklearn.metrics import accuracy_score, precision_score, f1_score, recall_score\n",
    "\n",
    "\n",
    "preds = model_retrain_random.predict(val.text.values.tolist()).detach().numpy()\n",
    "\n",
    "\n",
    "accuracies = []\n",
    "f1s = [] \n",
    "precisions = []\n",
    "recalls = []\n",
    "\n",
    "for k, preds in preds_dict.items():\n",
    "   accuracies.append(accuracy_score(val.labels.values, preds))\n",
    "   f1s.append(f1_score(val.labels.values, preds))\n",
    "   precisions.append(precision_score(val.labels.values, preds))\n",
    "   recalls.append(recall_score(val.labels.values, preds))\n"
   ]
  },
  {
   "cell_type": "code",
   "execution_count": 13,
   "metadata": {},
   "outputs": [
    {
     "name": "stdout",
     "output_type": "stream",
     "text": [
      "|Model stage|Accuracy|F1|Precision|Recall|\n",
      "|:---:|:---:|:---:|:---:|:---:|\n",
      "|retrain without active learning|66.78 + 0.10|63.68 + 0.59|                                         59.96 + 0.39|67.93 + 1.84|\n"
     ]
    }
   ],
   "source": [
    "print('|Model stage|Accuracy|F1|Precision|Recall|')\n",
    "print('|:---:|:---:|:---:|:---:|:---:|')\n",
    "print(f\"|retrain without active learning|{np.mean(accuracies)*100:.02f} + {np.std(accuracies)*100:.02f}|{np.mean(f1s)*100:.02f} + {np.std(f1s)*100:.02f}| \\\n",
    "                                        {np.mean(precisions)*100:.02f} + {np.std(precisions)*100:.02f}|{np.mean(recalls)*100:.02f} + {np.std(recalls)*100:.02f}|\")\n"
   ]
  },
  {
   "cell_type": "markdown",
   "metadata": {},
   "source": [
    "|Model stage|Accuracy|F1|Precision|Recall|\n",
    "|:---:|:---:|:---:|:---:|:---:|\n",
    "|after first training|66.67|64.62|59.31|70.98|\n",
    "|retrain without active learning|66.78 + 0.10|63.68 + 0.59|                                         59.96 + 0.39|67.93 + 1.84|"
   ]
  },
  {
   "cell_type": "markdown",
   "metadata": {},
   "source": [
    "## 2. Active learning Strategy"
   ]
  },
  {
   "cell_type": "markdown",
   "metadata": {},
   "source": [
    "### 2.1 Forecast Data and Calculate the Entropy"
   ]
  },
  {
   "cell_type": "code",
   "execution_count": 14,
   "metadata": {},
   "outputs": [],
   "source": [
    "import numpy as np\n",
    "import math\n",
    "\n",
    "probas = model.forward(train.text.values.tolist()).detach().numpy()\n",
    "\n",
    "entropy_array = np.empty(probas.shape[0])\n",
    "for k in range(probas.shape[0]):\n",
    "    entropy_array[k] = -np.sum(probas[k,]*np.log2(probas[k,]))\n"
   ]
  },
  {
   "cell_type": "code",
   "execution_count": 15,
   "metadata": {},
   "outputs": [],
   "source": [
    "train['preds'] = model.predict(train.text.values.tolist()).detach().numpy()\n",
    "train['entropy'] = entropy_array"
   ]
  },
  {
   "cell_type": "markdown",
   "metadata": {},
   "source": [
    "### 2.2 Calculate the cosine similarity"
   ]
  },
  {
   "cell_type": "code",
   "execution_count": 47,
   "metadata": {},
   "outputs": [],
   "source": [
    "def cosine_similarity(embedding1: np.array, embedding2: np.array) -> float:\n",
    "    \"computes cosine similarity\"\n",
    "    return np.dot(embedding1, embedding2)/(np.linalg.norm(embedding1)*np.linalg.norm(embedding2))\n",
    "\n",
    "\n",
    "def cosine_similarity_text_matrix(embedding1: np.array, matrix_embeddings: np.array):\n",
    "    similarities = []\n",
    "    for k in range(matrix_embeddings.shape[0]):\n",
    "        similarities.append(cosine_similarity(embedding1, matrix_embeddings[k,]))\n",
    "    return np.mean(similarities)"
   ]
  },
  {
   "cell_type": "markdown",
   "metadata": {},
   "source": [
    "Calculate the embeddings"
   ]
  },
  {
   "cell_type": "code",
   "execution_count": 48,
   "metadata": {},
   "outputs": [],
   "source": [
    "from sentence_transformers import SentenceTransformer\n",
    "\n",
    "model_embeddings = SentenceTransformer('all-MiniLM-L6-v2')\n",
    "\n",
    "embeddings_reference = model_embeddings.encode(first_train_set.text.values)\n",
    "\n",
    "embeddings_train = model_embeddings.encode(train.text.values)"
   ]
  },
  {
   "cell_type": "code",
   "execution_count": 49,
   "metadata": {},
   "outputs": [],
   "source": [
    "avg_similarities = []\n",
    "for k in range(embeddings_train.shape[0]):\n",
    "    avg_similarities.append(cosine_similarity_text_matrix(embeddings_train[k], embeddings_reference))\n",
    "\n",
    "train['similarities'] = avg_similarities"
   ]
  },
  {
   "cell_type": "markdown",
   "metadata": {},
   "source": [
    "### 2.3 Label the samples with highest Entropy"
   ]
  },
  {
   "cell_type": "code",
   "execution_count": 20,
   "metadata": {},
   "outputs": [],
   "source": [
    "train_entropy = train.sort_values(by=['entropy'], ascending=False).iloc[:100,]\n",
    "\n",
    "lr = 1e-4\n",
    "\n",
    "model_entropy = LinearNet(384, 100)\n",
    "model_entropy.load_state_dict(torch.load(join(PATH_MODEL,'nn_active_learn_hate.pt')))\n",
    "    \n",
    "train_loader = DataLoader(TweetDataset(train_entropy.text.values.tolist(), train_entropy.labels.values.tolist()), batch_size=8)\n",
    "optimizer = torch.optim.SGD(model_entropy.parameters(), lr=lr)\n",
    "\n",
    "losses = []\n",
    "\n",
    "for epoch in (range(EPOCHS)):\n",
    "    losses.append(train_one_epoch(model_entropy, train_loader, optimizer))"
   ]
  },
  {
   "cell_type": "code",
   "execution_count": 22,
   "metadata": {},
   "outputs": [
    {
     "name": "stdout",
     "output_type": "stream",
     "text": [
      "|Model stage|Accuracy|F1|Precision|Recall|\n",
      "|:---:|:---:|:---:|:---:|:---:|\n",
      "|retrain entropy|66.44|60.26|61.23|59.33|\n"
     ]
    }
   ],
   "source": [
    "preds = model_entropy.predict(val.text.values.tolist()).detach().numpy()\n",
    "\n",
    "metrics = {name_metric: metric(val.labels.values, preds) for name_metric, metric in zip(['acc', 'f1', 'precision', 'recall'],\n",
    "                                                                                        [accuracy_score, f1_score, precision_score, recall_score])}\n",
    "\n",
    "print('|Model stage|Accuracy|F1|Precision|Recall|')\n",
    "print('|:---:|:---:|:---:|:---:|:---:|')\n",
    "print(f\"|retrain entropy|{metrics['acc']*100:.02f}|{metrics['f1']*100:.02f}|{metrics['precision']*100:.02f}|{metrics['recall']*100:.02f}|\")\n"
   ]
  },
  {
   "cell_type": "markdown",
   "metadata": {},
   "source": [
    "|Model stage|Accuracy|F1|Precision|Recall|\n",
    "|:---:|:---:|:---:|:---:|:---:|\n",
    "|after first training|66.67|64.62|59.31|70.98|\n",
    "|retrain without active learning|66.78 + 0.10|63.68 + 0.59|                                         59.96 + 0.39|67.93 + 1.84|\n",
    "|retrain entropy|66.44|60.26|61.23|59.33|"
   ]
  },
  {
   "cell_type": "markdown",
   "metadata": {},
   "source": [
    "### 2.4 Forecast samples with highest entropy version 2"
   ]
  },
  {
   "cell_type": "code",
   "execution_count": 44,
   "metadata": {},
   "outputs": [
    {
     "name": "stdout",
     "output_type": "stream",
     "text": [
      "there are 77 negative samples and 23 positive samples\n",
      "|Model stage|Accuracy|F1|Precision|Recall|\n",
      "|:---:|:---:|:---:|:---:|:---:|\n",
      "|retrain entropy|66.89|65.19|59.36|72.28|\n"
     ]
    }
   ],
   "source": [
    "train_positive_entropy = train.loc[train.loc[:,'preds']==1].sort_values(by=['entropy'], ascending=False).iloc[:50,]\n",
    "train_negative_entropy = train.loc[train.loc[:,'preds']==0].sort_values(by=['entropy'], ascending=False).iloc[:50,]\n",
    "train_entropy_v2 = pd.concat((train_positive_entropy,train_negative_entropy)).sample(frac=1, random_state=42)\n",
    "\n",
    "\n",
    "print(f'there are {np.unique(train_entropy_v2.labels, return_counts=True)[1][0]} negative samples and {np.unique(train_entropy_v2.labels, return_counts=True)[1][1]} positive samples')\n",
    "\n",
    "\n",
    "## We balance the training set\n",
    "\n",
    "train_entropy_v2_positive = train_entropy_v2.loc[train_entropy_v2.loc[:,'labels']==0,].sample(train_entropy_v2.loc[train_entropy_v2.loc[:,'labels']==1,].shape[0], random_state=42)\n",
    "train_entropy_v3 = pd.concat((train_entropy_v2_positive,train_entropy_v2.loc[train_entropy_v2.loc[:,'labels']==1,] )).sample(frac=1, random_state=42)\n",
    "\n",
    "\n",
    "lr = 1e-3\n",
    "\n",
    "model_entropy = LinearNet(384, 100)\n",
    "model_entropy.load_state_dict(torch.load(join(PATH_MODEL,'nn_active_learn_hate.pt')))\n",
    "    \n",
    "train_loader = DataLoader(TweetDataset(train_entropy_v3.text.values.tolist(), train_entropy_v3.labels.values.tolist()), batch_size=8)\n",
    "optimizer = torch.optim.SGD(model_entropy.parameters(), lr=lr)\n",
    "\n",
    "losses = []\n",
    "\n",
    "for epoch in (range(EPOCHS)):\n",
    "    losses.append(train_one_epoch(model_entropy, train_loader, optimizer))\n",
    "\n",
    "preds = model_entropy.predict(val.text.values.tolist()).detach().numpy()\n",
    "\n",
    "metrics = {name_metric: metric(val.labels.values, preds) for name_metric, metric in zip(['acc', 'f1', 'precision', 'recall'],\n",
    "                                                                                        [accuracy_score, f1_score, precision_score, recall_score])}\n",
    "\n",
    "print('|Model stage|Accuracy|F1|Precision|Recall|')\n",
    "print('|:---:|:---:|:---:|:---:|:---:|')\n",
    "print(f\"|retrain entropy|{metrics['acc']*100:.02f}|{metrics['f1']*100:.02f}|{metrics['precision']*100:.02f}|{metrics['recall']*100:.02f}|\")\n"
   ]
  },
  {
   "cell_type": "markdown",
   "metadata": {},
   "source": [
    "|Model stage|Accuracy|F1|Precision|Recall|\n",
    "|:---:|:---:|:---:|:---:|:---:|\n",
    "|after first training|66.67|64.62|59.31|70.98|\n",
    "|retrain without active learning|66.78 + 0.10|63.68 + 0.59|                                         59.96 + 0.39|67.93 + 1.84|\n",
    "|retrain entropy|66.44|60.26|61.23|59.33|\n",
    "|retrain entropy v2|66.89|65.19|59.36|72.28|"
   ]
  },
  {
   "cell_type": "markdown",
   "metadata": {},
   "source": [
    "### 2.4 Label Samples less similar"
   ]
  },
  {
   "cell_type": "code",
   "execution_count": 55,
   "metadata": {},
   "outputs": [
    {
     "name": "stdout",
     "output_type": "stream",
     "text": [
      "|Model stage|Accuracy|F1|Precision|Recall|\n",
      "|:---:|:---:|:---:|:---:|:---:|\n",
      "|retrain similarity|67.44|58.08|64.86|52.59|\n"
     ]
    }
   ],
   "source": [
    "train_similar= train.sort_values(by=['similarities'], ascending=True).iloc[:100,]\n",
    "\n",
    "lr = 1e-4\n",
    "\n",
    "model_similar = LinearNet(384, 100)\n",
    "model_similar.load_state_dict(torch.load(join(PATH_MODEL,'nn_active_learn_hate.pt')))\n",
    "    \n",
    "train_loader = DataLoader(TweetDataset(train_similar.text.values.tolist(), train_similar.labels.values.tolist()), batch_size=8)\n",
    "optimizer = torch.optim.SGD(model_similar.parameters(), lr=lr)\n",
    "\n",
    "losses = []\n",
    "\n",
    "for epoch in (range(EPOCHS)):\n",
    "    losses.append(train_one_epoch(model_similar, train_loader, optimizer))\n",
    "\n",
    "\n",
    "preds = model_similar.predict(val.text.values.tolist()).detach().numpy()\n",
    "\n",
    "metrics = {name_metric: metric(val.labels.values, preds) for name_metric, metric in zip(['acc', 'f1', 'precision', 'recall'],\n",
    "                                                                                        [accuracy_score, f1_score, precision_score, recall_score])}\n",
    "\n",
    "print('|Model stage|Accuracy|F1|Precision|Recall|')\n",
    "print('|:---:|:---:|:---:|:---:|:---:|')\n",
    "print(f\"|retrain similarity|{metrics['acc']*100:.02f}|{metrics['f1']*100:.02f}|{metrics['precision']*100:.02f}|{metrics['recall']*100:.02f}|\")\n"
   ]
  },
  {
   "cell_type": "markdown",
   "metadata": {},
   "source": [
    "|Model stage|Accuracy|F1|Precision|Recall|\n",
    "|:---:|:---:|:---:|:---:|:---:|\n",
    "|after first training|66.67|64.62|59.31|70.98|\n",
    "|retrain without active learning|66.78 + 0.10|63.68 + 0.59|                                         59.96 + 0.39|67.93 + 1.84|\n",
    "|retrain entropy|66.44|60.26|61.23|59.33|\n",
    "|retrain entropy v2|66.89|65.19|59.36|72.28|\n",
    "|retrain similarity|67.44|58.08|64.86|52.59|"
   ]
  },
  {
   "cell_type": "markdown",
   "metadata": {},
   "source": [
    "### Forecast samples less similar version 3"
   ]
  },
  {
   "cell_type": "code",
   "execution_count": 58,
   "metadata": {},
   "outputs": [
    {
     "name": "stdout",
     "output_type": "stream",
     "text": [
      "there are 93 negative samples and 7 positive samples\n",
      "|Model stage|Accuracy|F1|Precision|Recall|\n",
      "|:---:|:---:|:---:|:---:|:---:|\n",
      "|retrain entropy|66.56|64.46|59.22|70.73|\n"
     ]
    }
   ],
   "source": [
    "train_positive_similarities = train.loc[train.loc[:,'preds']==1].sort_values(by=['similarities'], ascending=True).iloc[:50,]\n",
    "train_negative_similarities = train.loc[train.loc[:,'preds']==0].sort_values(by=['similarities'], ascending=True).iloc[:50,]\n",
    "train_similarities_v2 = pd.concat((train_positive_similarities,train_negative_similarities)).sample(frac=1, random_state=42)\n",
    "\n",
    "\n",
    "print(f'there are {np.unique(train_similarities_v2.labels, return_counts=True)[1][0]} negative samples and {np.unique(train_similarities_v2.labels, return_counts=True)[1][1]} positive samples')\n",
    "\n",
    "\n",
    "## We balance the training set\n",
    "train_similarities_v2_positive = train_similarities_v2.loc[train_similarities_v2.loc[:,'labels']==0,].sample(train_similarities_v2.loc[train_similarities_v2.loc[:,'labels']==1,].shape[0], random_state=42)\n",
    "train_similarities_v3 = pd.concat((train_similarities_v2_positive,train_similarities_v2.loc[train_similarities_v2.loc[:,'labels']==1,] )).sample(frac=1, random_state=42)\n",
    "\n",
    "lr = 1e-3\n",
    "\n",
    "model_similar = LinearNet(384, 100)\n",
    "model_similar.load_state_dict(torch.load(join(PATH_MODEL,'nn_active_learn_hate.pt')))\n",
    "    \n",
    "train_loader = DataLoader(TweetDataset(train_similarities_v3.text.values.tolist(), train_similarities_v3.labels.values.tolist()), batch_size=8)\n",
    "optimizer = torch.optim.SGD(model_similar.parameters(), lr=lr)\n",
    "\n",
    "losses = []\n",
    "\n",
    "for epoch in (range(EPOCHS)):\n",
    "    losses.append(train_one_epoch(model_similar, train_loader, optimizer))\n",
    "\n",
    "preds = model_similar.predict(val.text.values.tolist()).detach().numpy()\n",
    "\n",
    "metrics = {name_metric: metric(val.labels.values, preds) for name_metric, metric in zip(['acc', 'f1', 'precision', 'recall'],\n",
    "                                                                                        [accuracy_score, f1_score, precision_score, recall_score])}\n",
    "\n",
    "print('|Model stage|Accuracy|F1|Precision|Recall|')\n",
    "print('|:---:|:---:|:---:|:---:|:---:|')\n",
    "print(f\"|retrain similarity v2|{metrics['acc']*100:.02f}|{metrics['f1']*100:.02f}|{metrics['precision']*100:.02f}|{metrics['recall']*100:.02f}|\")\n"
   ]
  },
  {
   "cell_type": "markdown",
   "metadata": {},
   "source": [
    "|Model stage|Accuracy|F1|Precision|Recall|\n",
    "|:---:|:---:|:---:|:---:|:---:|\n",
    "|after first training|66.67|64.62|59.31|70.98|\n",
    "|retrain without active learning|66.78 + 0.10|63.68 + 0.59|                                         59.96 + 0.39|67.93 + 1.84|\n",
    "|retrain entropy|66.44|60.26|61.23|59.33|\n",
    "|retrain entropy v2|66.89|65.19|59.36|72.28|\n",
    "|retrain similarity|67.44|58.08|64.86|52.59|\n",
    "|retrain similarity v2|66.56|64.46|59.22|70.73|"
   ]
  },
  {
   "cell_type": "markdown",
   "metadata": {},
   "source": [
    "### 3. Mixing both Active Learning Strategies"
   ]
  },
  {
   "cell_type": "code",
   "execution_count": 66,
   "metadata": {},
   "outputs": [
    {
     "name": "stdout",
     "output_type": "stream",
     "text": [
      "(array([0, 1]), array([35, 65]))\n"
     ]
    }
   ],
   "source": [
    "candidates_entropy = train.sort_values(by=['entropy'], ascending=True).iloc[:200,]\n",
    "train_entropy_similarity = candidates_entropy.sort_values(by=['similarities'], ascending=True).iloc[:100,]\n",
    "\n",
    "\n",
    "lr = 1e-3\n",
    "\n",
    "model_entropy_similarity = LinearNet(384, 100)\n",
    "model_entropy_similarity.load_state_dict(torch.load(join(PATH_MODEL,'nn_active_learn_hate.pt')))\n",
    "    \n",
    "train_loader = DataLoader(TweetDataset(train_entropy_similarity.text.values.tolist(), train_entropy_similarity.labels.values.tolist()), batch_size=8)\n",
    "optimizer = torch.optim.SGD(model_entropy_similarity.parameters(), lr=lr)\n",
    "\n",
    "losses = []\n",
    "\n",
    "for epoch in (range(EPOCHS)):\n",
    "    losses.append(train_one_epoch(model_entropy_similarity, train_loader, optimizer))\n",
    "\n",
    "preds = model_entropy_similarity.predict(val.text.values.tolist()).detach().numpy()\n",
    "\n",
    "metrics = {name_metric: metric(val.labels.values, preds) for name_metric, metric in zip(['acc', 'f1', 'precision', 'recall'],\n",
    "                                                                                        [accuracy_score, f1_score, precision_score, recall_score])}\n",
    "\n",
    "print('|Model stage|Accuracy|F1|Precision|Recall|')\n",
    "print('|:---:|:---:|:---:|:---:|:---:|')\n",
    "print(f\"|retrain similarity v2|{metrics['acc']*100:.02f}|{metrics['f1']*100:.02f}|{metrics['precision']*100:.02f}|{metrics['recall']*100:.02f}|\")"
   ]
  },
  {
   "cell_type": "markdown",
   "metadata": {},
   "source": []
  }
 ],
 "metadata": {
  "interpreter": {
   "hash": "035e3afb6ab2f61eda64dcaa7a4e08d4997afc1968c0e178895e2f9382cd02fc"
  },
  "kernelspec": {
   "display_name": "Python 3.8.16",
   "language": "python",
   "name": "python3"
  },
  "language_info": {
   "codemirror_mode": {
    "name": "ipython",
    "version": 3
   },
   "file_extension": ".py",
   "mimetype": "text/x-python",
   "name": "python",
   "nbconvert_exporter": "python",
   "pygments_lexer": "ipython3",
   "version": "3.8.16"
  },
  "orig_nbformat": 4
 },
 "nbformat": 4,
 "nbformat_minor": 2
}
